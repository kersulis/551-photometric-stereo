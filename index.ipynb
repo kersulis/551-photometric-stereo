{
 "cells": [
  {
   "cell_type": "markdown",
   "metadata": {
    "nbpresent": {
     "id": "2d69855b-f0ef-49d3-aec3-0bf2f3c331f6"
    },
    "slideshow": {
     "slide_type": "slide"
    }
   },
   "source": [
    "## EECS 453/551\n",
    "# Photometric Stereo\n",
    "\n",
    "By imaging an object illuminated from several angles, we can construct a 3D representation. Regularized least squares provides a solution to this problem.\n",
    "___"
   ]
  },
  {
   "cell_type": "code",
   "execution_count": null,
   "metadata": {
    "ExecuteTime": {
     "end_time": "2016-09-28T07:49:50.190304",
     "start_time": "2016-09-28T07:49:49.483879"
    },
    "collapsed": true,
    "nbpresent": {
     "id": "6b7548df-2ebe-4c13-861c-8682b894a1f0"
    }
   },
   "outputs": [],
   "source": [
    "import matplotlib.pyplot as plt\n",
    "from mpl_toolkits.mplot3d import Axes3D\n",
    "import scipy.io as sio\n",
    "from photometric import *\n",
    "\n",
    "%matplotlib notebook"
   ]
  },
  {
   "cell_type": "code",
   "execution_count": null,
   "metadata": {
    "ExecuteTime": {
     "end_time": "2016-09-28T07:49:50.942035",
     "start_time": "2016-09-28T07:49:50.839788"
    },
    "collapsed": true,
    "nbpresent": {
     "id": "7ab10286-41e7-4542-b689-99429ee9790b"
    }
   },
   "outputs": [],
   "source": [
    "d = sio.loadmat('cat.mat')\n",
    "L, I, M = d['L'], d['I'], d['M']\n",
    "mask = M.astype(bool)"
   ]
  },
  {
   "cell_type": "markdown",
   "metadata": {},
   "source": [
    "## cat demo"
   ]
  },
  {
   "cell_type": "code",
   "execution_count": null,
   "metadata": {
    "ExecuteTime": {
     "end_time": "2016-09-28T07:50:06.800130",
     "start_time": "2016-09-28T07:49:54.659799"
    },
    "collapsed": false,
    "scrolled": false
   },
   "outputs": [],
   "source": [
    "nIters = 1000\n",
    "regparam = 0\n",
    "\n",
    "m, n = I.shape[:2]\n",
    "N = hw8pw(I, L)\n",
    "\n",
    "DFDX = -N[:,:,0]/N[:,:,2]\n",
    "DFDY = N[:,:,1]/N[:,:,2]\n",
    "DFDX[np.isnan(DFDX) | ~mask.astype(bool)] = 0\n",
    "DFDY[np.isnan(DFDY) | ~mask.astype(bool)] = 0\n",
    "\n",
    "A, b = hw8p9a(DFDX, DFDY, regparam)\n",
    "fxy = lsqr(A, b, atol=1e-6, btol=1e-6, iter_lim=nIters)\n",
    "\n",
    "# Frankot-Chellappa surface for comparison:\n",
    "z = frankotchellappa(DFDX, DFDY)\n",
    "\n",
    "# format surface\n",
    "FXY = fxy[0].reshape((m,n), order='F')\n",
    "FXY -= FXY[mask.astype(bool)].min()\n",
    "XX, YY = np.meshgrid(np.arange(0,n,1), np.arange(m,0,-1))"
   ]
  },
  {
   "cell_type": "code",
   "execution_count": null,
   "metadata": {
    "ExecuteTime": {
     "end_time": "2016-09-28T07:52:22.495147",
     "start_time": "2016-09-28T07:52:21.641644"
    },
    "collapsed": false,
    "scrolled": false
   },
   "outputs": [],
   "source": [
    "# plot\n",
    "fig = plt.figure(figsize=(10,5))\n",
    "ax1 = fig.add_subplot(121, projection='3d')\n",
    "ax1.plot_surface(XX, YY, z, color='lightgray', linewidth=0)\n",
    "ax1.view_init(120, 270)\n",
    "ax1.set_xticklabels('')\n",
    "ax1.set_yticklabels('')\n",
    "ax1.set_zticklabels('')\n",
    "ax1.set_title('Frankot Chellappa')\n",
    "\n",
    "ax1 = fig.add_subplot(122, projection='3d')\n",
    "ax1.plot_surface(XX, YY, FXY, color='lightgray', linewidth=0)\n",
    "ax1.view_init(120, 270)\n",
    "ax1.set_xticklabels('')\n",
    "ax1.set_yticklabels('')\n",
    "ax1.set_zticklabels('')\n",
    "ax1.set_title('LSQR Result')"
   ]
  },
  {
   "cell_type": "markdown",
   "metadata": {
    "slideshow": {
     "slide_type": "-"
    }
   },
   "source": [
    "# Description of existing Matlab code\n",
    "\n",
    "Here's my view of the Matlab code:\n",
    "* `demo.m` compares three methods for deriving a surface from gradient information.\n",
    "    1. Frankot Chellappa: use Fourier transform. Code is straightforward, no reason I couldn't implement this in Python.\n",
    "    2. `grad2surf` toolbox: solve the least squares problem, but view the normal equation as a Sylvester equation, and solve using the Bartels-Stewart algorithm. Code is scattered across several files. I could translate it to Python given enough time, but it appears this is only included in the demo to provide another comparison for our least squares result.\n",
    "    3. Use `surface2normal`: this is the code students will write in HW. Python translation appears to be easy.\n",
    "* It seems the first two methods are included only for reference. Translating them to Python provides little value. Python's opencv package provides a one-liner for obtaining a reference surface, so I'd sooner just use that.\n",
    "* So my goal is to translate `surface2normal` into Python and make a notebook to demonstrate it.\n",
    "    1. Translate `surface2normal`. Write tests. Use Python autograder code as style guide.\n",
    "    2. Make demo notebook that constructs and visualizes a surface using Python. Explain various difference operators and their connections to Fourier series. Show differences in output.\n",
    "    3. Write `hw8p8_sol.py` and `hw8p9_sol.py`. Step 1 effectively does this already. **Andrew is doing this.**"
   ]
  }
 ],
 "metadata": {
  "anaconda-cloud": {},
  "kernelspec": {
   "display_name": "Python [default]",
   "language": "python",
   "name": "python3"
  },
  "language_info": {
   "codemirror_mode": {
    "name": "ipython",
    "version": 3
   },
   "file_extension": ".py",
   "mimetype": "text/x-python",
   "name": "python",
   "nbconvert_exporter": "python",
   "pygments_lexer": "ipython3",
   "version": "3.4.5"
  },
  "nbpresent": {
   "slides": {},
   "themes": {}
  }
 },
 "nbformat": 4,
 "nbformat_minor": 1
}
